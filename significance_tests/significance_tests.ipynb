{
 "cells": [
  {
   "cell_type": "code",
   "execution_count": 1,
   "metadata": {},
   "outputs": [
    {
     "name": "stdout",
     "output_type": "stream",
     "text": [
      "/home/witiko/documents/Práce/2017/09/segmentation-experiments/SemEvalTask3/segmentation-experiments\n"
     ]
    }
   ],
   "source": [
    "ROOT_DIR=!git rev-parse --show-toplevel\n",
    "%cd {ROOT_DIR[0]}"
   ]
  },
  {
   "cell_type": "markdown",
   "metadata": {},
   "source": [
    "# Stating the hypotheses"
   ]
  },
  {
   "cell_type": "code",
   "execution_count": 21,
   "metadata": {
    "collapsed": true
   },
   "outputs": [],
   "source": [
    "hypotheses = []\n",
    "\n",
    "class Hypothesis(object):\n",
    "    def __init__(self, pvalue, desc):\n",
    "        self.pvalue = pvalue\n",
    "        self.desc = desc\n",
    "    def __repr__(self):\n",
    "        return \"%s (p-value: %f)\" % (self.desc, self.pvalue)"
   ]
  },
  {
   "cell_type": "markdown",
   "metadata": {},
   "source": [
    "## Comment relevance probability distributions\n",
    "Probability density functions $P(X_i), i=1,2,\\ldots,10$, where $X_i\\sim B(\\theta_i)$ is a random variable that determines whether a comment at position $i$ in a thread is relevant, follow different distributions."
   ]
  },
  {
   "cell_type": "code",
   "execution_count": 5,
   "metadata": {
    "collapsed": true
   },
   "outputs": [],
   "source": [
    "from filenames import SUBTASK_A_TRAIN_DATASET_FNAMES\n",
    "from preprocessing import retrieve_comment_relevancies\n",
    "\n",
    "import numpy as np\n",
    "\n",
    "!LC_ALL=C make -C datasets &>/dev/null\n",
    "trials = [[], [], [], [], [], [], [], [], [], []]\n",
    "for relevancies in retrieve_comment_relevancies(SUBTASK_A_TRAIN_DATASET_FNAMES):\n",
    "    for i, relevance in enumerate(relevancies):\n",
    "        trials[i].append(relevance)\n",
    "x = []\n",
    "for i, _ in enumerate(trials):\n",
    "    x.append((sum(trials[i]), len(trials[i])))"
   ]
  },
  {
   "cell_type": "markdown",
   "metadata": {},
   "source": [
    "The relative frequencies $\\hat P(X_i=1)$ sampled from the annotated SemEval-Task 3 subtask A data:"
   ]
  },
  {
   "cell_type": "code",
   "execution_count": 6,
   "metadata": {},
   "outputs": [
    {
     "name": "stdout",
     "output_type": "stream",
     "text": [
      "^P(X_1=1) = 0.629876\t(2410 trials)\n",
      "^P(X_2=1) = 0.519087\t(2410 trials)\n",
      "^P(X_3=1) = 0.533195\t(2410 trials)\n",
      "^P(X_4=1) = 0.481328\t(2410 trials)\n",
      "^P(X_5=1) = 0.474274\t(2410 trials)\n",
      "^P(X_6=1) = 0.451452\t(2410 trials)\n",
      "^P(X_7=1) = 0.438589\t(2410 trials)\n",
      "^P(X_8=1) = 0.425311\t(2410 trials)\n",
      "^P(X_9=1) = 0.418257\t(2410 trials)\n",
      "^P(X_10=1) = 0.419502\t(2410 trials)\n"
     ]
    }
   ],
   "source": [
    "for i, (successes, trials) in enumerate(x):\n",
    "    print(\"^P(X_%d=1) = %f\\t(%d trials)\" % (i+1, successes / trials, trials))"
   ]
  },
  {
   "cell_type": "markdown",
   "metadata": {},
   "source": [
    "Assuming $Y_i = \\sum_{k=1}^{2410} X_i, Y_i\\sim Bi(2410, \\theta_i)$, we will use Fisher's exact test ([1](https://en.wikipedia.org/wiki/Fisher%27s_exact_test), [2](http://udel.edu/~mcdonald/statfishers.html), [3](http://www.itl.nist.gov/div898/handbook/prc/section3/prc33.htm)) to compute the one-tailed $p$-values of $H_0: \\theta_i=\\theta_j$ for all $i<j$."
   ]
  },
  {
   "cell_type": "code",
   "execution_count": 23,
   "metadata": {},
   "outputs": [],
   "source": [
    "from scipy.stats import fisher_exact\n",
    "for i, (successes_i, trials_i) in enumerate(x):\n",
    "    for j, (successes_j, trials_j) in enumerate(x):\n",
    "        if i >= j:\n",
    "            continue\n",
    "        a = successes_i\n",
    "        b = successes_j\n",
    "        c = trials_i - successes_i\n",
    "        d = trials_j - successes_j\n",
    "        _, pvalue = fisher_exact([[a, b], [c, d]], alternative=\"greater\")\n",
    "        hypotheses.append(Hypothesis(pvalue, \"Comment relevance: θ%d = θ%d\" % (i+1, j+1)))"
   ]
  },
  {
   "cell_type": "markdown",
   "metadata": {},
   "source": [
    "# Testing the hypotheses\n",
    "We will they to disprove all the hypotheses at the significance level of 5 % using the [Benjamini–Hochberg procedure](https://en.wikipedia.org/wiki/False_discovery_rate#Benjamini.E2.80.93Hochberg_procedure)."
   ]
  },
  {
   "cell_type": "code",
   "execution_count": 51,
   "metadata": {},
   "outputs": [
    {
     "name": "stdout",
     "output_type": "stream",
     "text": [
      "------------ Rejected hypotheses -------------\n",
      "Comment relevance: θ1 = θ9 (p-value: 0.000000)\n",
      "Comment relevance: θ1 = θ10 (p-value: 0.000000)\n",
      "Comment relevance: θ1 = θ8 (p-value: 0.000000)\n",
      "Comment relevance: θ1 = θ7 (p-value: 0.000000)\n",
      "Comment relevance: θ1 = θ6 (p-value: 0.000000)\n",
      "Comment relevance: θ1 = θ5 (p-value: 0.000000)\n",
      "Comment relevance: θ1 = θ4 (p-value: 0.000000)\n",
      "Comment relevance: θ3 = θ9 (p-value: 0.000000)\n",
      "Comment relevance: θ3 = θ10 (p-value: 0.000000)\n",
      "Comment relevance: θ1 = θ2 (p-value: 0.000000)\n",
      "Comment relevance: θ3 = θ8 (p-value: 0.000000)\n",
      "Comment relevance: θ2 = θ9 (p-value: 0.000000)\n",
      "Comment relevance: θ2 = θ10 (p-value: 0.000000)\n",
      "Comment relevance: θ1 = θ3 (p-value: 0.000000)\n",
      "Comment relevance: θ3 = θ7 (p-value: 0.000000)\n",
      "Comment relevance: θ2 = θ8 (p-value: 0.000000)\n",
      "Comment relevance: θ3 = θ6 (p-value: 0.000000)\n",
      "Comment relevance: θ2 = θ7 (p-value: 0.000000)\n",
      "Comment relevance: θ2 = θ6 (p-value: 0.000002)\n",
      "Comment relevance: θ4 = θ9 (p-value: 0.000006)\n",
      "Comment relevance: θ4 = θ10 (p-value: 0.000009)\n",
      "Comment relevance: θ3 = θ5 (p-value: 0.000024)\n",
      "Comment relevance: θ5 = θ9 (p-value: 0.000051)\n",
      "Comment relevance: θ4 = θ8 (p-value: 0.000053)\n",
      "Comment relevance: θ5 = θ10 (p-value: 0.000073)\n",
      "Comment relevance: θ3 = θ4 (p-value: 0.000176)\n",
      "Comment relevance: θ5 = θ8 (p-value: 0.000352)\n",
      "Comment relevance: θ2 = θ5 (p-value: 0.001025)\n",
      "Comment relevance: θ4 = θ7 (p-value: 0.001598)\n",
      "Comment relevance: θ2 = θ4 (p-value: 0.004758)\n",
      "Comment relevance: θ5 = θ7 (p-value: 0.006982)\n",
      "Comment relevance: θ6 = θ9 (p-value: 0.010851)\n",
      "Comment relevance: θ6 = θ10 (p-value: 0.013622)\n",
      "Comment relevance: θ4 = θ6 (p-value: 0.020178)\n",
      "Comment relevance: θ6 = θ8 (p-value: 0.035941)\n",
      "\n",
      "------- Hypotheses we could not reject -------\n",
      "Comment relevance: θ5 = θ6 (p-value: 0.059385)\n",
      "Comment relevance: θ7 = θ9 (p-value: 0.081180)\n",
      "Comment relevance: θ7 = θ10 (p-value: 0.095164)\n",
      "Comment relevance: θ7 = θ8 (p-value: 0.183683)\n",
      "Comment relevance: θ6 = θ7 (p-value: 0.192288)\n",
      "Comment relevance: θ8 = θ9 (p-value: 0.320372)\n",
      "Comment relevance: θ4 = θ5 (p-value: 0.322267)\n",
      "Comment relevance: θ8 = θ10 (p-value: 0.352312)\n",
      "Comment relevance: θ9 = θ10 (p-value: 0.546481)\n",
      "Comment relevance: θ2 = θ3 (p-value: 0.843667)\n"
     ]
    }
   ],
   "source": [
    "alpha = 0.05\n",
    "m = len(Pi)\n",
    "Pi = sorted(hypotheses, key=lambda h0: h0.pvalue)\n",
    "for k in range(m, 0, -1):\n",
    "    if Pi[k-1].pvalue < (k/m) * alpha:\n",
    "        break\n",
    "print(\"------------ Rejected hypotheses -------------\")\n",
    "for j, h0 in ((i+1, h0) for (i, h0) in enumerate(Pi)):\n",
    "    if j == k+1:\n",
    "        print(\"\\n------- Hypotheses we could not reject -------\")\n",
    "    print(h0)"
   ]
  }
 ],
 "metadata": {
  "kernelspec": {
   "display_name": "Python 3",
   "language": "python",
   "name": "python3"
  },
  "language_info": {
   "codemirror_mode": {
    "name": "ipython",
    "version": 3
   },
   "file_extension": ".py",
   "mimetype": "text/x-python",
   "name": "python",
   "nbconvert_exporter": "python",
   "pygments_lexer": "ipython3",
   "version": "3.5.3"
  }
 },
 "nbformat": 4,
 "nbformat_minor": 2
}
